{
 "cells": [
  {
   "cell_type": "code",
   "execution_count": 3,
   "id": "f7009242-87c0-491b-a32e-eff986e3dbba",
   "metadata": {},
   "outputs": [],
   "source": [
    "import torch\n",
    "import numpy as np\n",
    "from sklearn.model_selection import KFold\n",
    "from sklearn.metrics import (\n",
    "    confusion_matrix,\n",
    "    roc_auc_score,\n",
    "    precision_recall_curve,\n",
    "    auc\n",
    ")\n",
    "import glob\n",
    "from dataset import *\n",
    "from model import *\n",
    "\n",
    "def test_model_on_9_proteins(model_path, protein_path, feature_path):\n",
    "    device = torch.device(\"cuda\" if torch.cuda.is_available() else \"cpu\")\n",
    "\n",
    "    sequences, labels = load_encoding_from_txt(protein_path)\n",
    "    features = load_features_from_txt(feature_path)\n",
    "    \n",
    "    sequences = np.array(sequences)\n",
    "    features = np.array(features)\n",
    "    labels = np.array(labels)\n",
    "    \n",
    "    dataset = MyDataSet(sequences, features, labels)\n",
    "    data_loader = Data.DataLoader(dataset, batch_size=9, shuffle=False)\n",
    "\n",
    "    model = FusionPepNet().to(device)\n",
    "    model.load_state_dict(torch.load(model_path, map_location=device))\n",
    "    model.eval()\n",
    "\n",
    "    all_preds = []\n",
    "    all_probs = []\n",
    "    with torch.no_grad():\n",
    "        for input_ids, seq_feat, lbl in data_loader:\n",
    "            input_ids = input_ids.to(device)\n",
    "            seq_feat = seq_feat.to(device)\n",
    "            outputs, _, _ = model(input_ids, seq_feat)\n",
    "\n",
    "            probs = torch.softmax(outputs, dim=1)[:, 1].cpu().numpy()\n",
    "            preds = torch.argmax(outputs, dim=1).cpu().numpy()\n",
    "\n",
    "            all_probs.extend(probs)\n",
    "            all_preds.extend(preds)\n",
    "    \n",
    "    print(\"\\n========= 9 Proteins Prediction Result =========\")\n",
    "    for i, (pred, prob, true_label) in enumerate(zip(all_preds, all_probs, labels)):\n",
    "        print(f\"Sample {i+1}: Pred={pred} | Prob={prob:.4f} | True={true_label}\")\n",
    "    \n",
    "    num_positive = sum(all_preds)\n"
   ]
  },
  {
   "cell_type": "code",
   "execution_count": null,
   "id": "5b758f55-91fd-4807-b257-7d12c56c76a8",
   "metadata": {},
   "outputs": [
    {
     "name": "stderr",
     "output_type": "stream",
     "text": [
      "/tmp/ipykernel_1201/735991046.py:31: FutureWarning: You are using `torch.load` with `weights_only=False` (the current default value), which uses the default pickle module implicitly. It is possible to construct malicious pickle data which will execute arbitrary code during unpickling (See https://github.com/pytorch/pytorch/blob/main/SECURITY.md#untrusted-models for more details). In a future release, the default value for `weights_only` will be flipped to `True`. This limits the functions that could be executed during unpickling. Arbitrary objects will no longer be allowed to be loaded via this mode unless they are explicitly allowlisted by the user via `torch.serialization.add_safe_globals`. We recommend you start setting `weights_only=True` for any use case where you don't have full control of the loaded file. Please open an issue on GitHub for any issues related to this experimental feature.\n",
      "  model.load_state_dict(torch.load(model_path, map_location=device))\n"
     ]
    },
    {
     "name": "stdout",
     "output_type": "stream",
     "text": [
      "\n",
      "========= 9 Proteins Prediction Result =========\n",
      "Sample 1: Pred=1 | Prob=0.9581 | True=0\n",
      "Sample 2: Pred=1 | Prob=0.9947 | True=0\n",
      "Sample 3: Pred=1 | Prob=0.9701 | True=0\n",
      "Sample 4: Pred=1 | Prob=0.9776 | True=0\n",
      "Sample 5: Pred=1 | Prob=0.9396 | True=0\n",
      "Sample 6: Pred=1 | Prob=0.8892 | True=0\n",
      "Sample 7: Pred=1 | Prob=0.9806 | True=0\n",
      "Sample 8: Pred=1 | Prob=0.9491 | True=0\n",
      "Sample 9: Pred=1 | Prob=0.9018 | True=0\n",
      "\n",
      "预测为正类的数量：9 / 9\n",
      "预测为正类的比例：100.00%\n"
     ]
    }
   ],
   "source": [
    "if __name__ == \"__main__\":\n",
    "    model_path = \"fold_4_acc_0.9563.pth\" \n",
    "\n",
    "    protein_path = \"\"\n",
    "    feature_path = \"\"\n",
    "\n",
    "    test_model_on_9_proteins(model_path, protein_path, feature_path)\n"
   ]
  },
  {
   "cell_type": "code",
   "execution_count": null,
   "id": "1e5a087a-91bb-488e-a559-d7e8794bb8ee",
   "metadata": {},
   "outputs": [],
   "source": []
  }
 ],
 "metadata": {
  "kernelspec": {
   "display_name": "Python 3 (ipykernel)",
   "language": "python",
   "name": "python3"
  },
  "language_info": {
   "codemirror_mode": {
    "name": "ipython",
    "version": 3
   },
   "file_extension": ".py",
   "mimetype": "text/x-python",
   "name": "python",
   "nbconvert_exporter": "python",
   "pygments_lexer": "ipython3",
   "version": "3.12.3"
  }
 },
 "nbformat": 4,
 "nbformat_minor": 5
}
