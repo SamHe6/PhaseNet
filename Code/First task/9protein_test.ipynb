{
 "cells": [
  {
   "cell_type": "code",
   "execution_count": 3,
   "id": "f7009242-87c0-491b-a32e-eff986e3dbba",
   "metadata": {},
   "outputs": [],
   "source": [
    "import torch\n",
    "import numpy as np\n",
    "from sklearn.model_selection import KFold\n",
    "from sklearn.metrics import (\n",
    "    confusion_matrix,\n",
    "    roc_auc_score,\n",
    "    precision_recall_curve,\n",
    "    auc\n",
    ")\n",
    "import glob\n",
    "from dataset import *\n",
    "from model import *\n",
    "\n",
    "def test_model_on_9_proteins(model_path, protein_path, feature_path):\n",
    "    device = torch.device(\"cuda\" if torch.cuda.is_available() else \"cpu\")\n",
    "\n",
    "    sequences, labels = load_encoding_from_txt(protein_path)\n",
    "    features = load_features_from_txt(feature_path)\n",
    "    \n",
    "    sequences = np.array(sequences)\n",
    "    features = np.array(features)\n",
    "    labels = np.array(labels)\n",
    "    \n",
    "    dataset = MyDataSet(sequences, features, labels)\n",
    "    data_loader = Data.DataLoader(dataset, batch_size=9, shuffle=False)\n",
    "\n",
    "    model = FusionPepNet().to(device)\n",
    "    model.load_state_dict(torch.load(model_path, map_location=device))\n",
    "    model.eval()\n",
    "\n",
    "    all_preds = []\n",
    "    all_probs = []\n",
    "    with torch.no_grad():\n",
    "        for input_ids, seq_feat, lbl in data_loader:\n",
    "            input_ids = input_ids.to(device)\n",
    "            seq_feat = seq_feat.to(device)\n",
    "            outputs, _, _ = model(input_ids, seq_feat)\n",
    "\n",
    "            probs = torch.softmax(outputs, dim=1)[:, 1].cpu().numpy()\n",
    "            preds = torch.argmax(outputs, dim=1).cpu().numpy()\n",
    "\n",
    "            all_probs.extend(probs)\n",
    "            all_preds.extend(preds)\n",
    "    \n",
    "    print(\"\\n========= 9 Proteins Prediction Result =========\")\n",
    "    for i, (pred, prob, true_label) in enumerate(zip(all_preds, all_probs, labels)):\n",
    "        print(f\"Sample {i+1}: Pred={pred} | Prob={prob:.4f} | True={true_label}\")\n",
    "    \n",
    "    num_positive = sum(all_preds)\n"
   ]
  },
  {
   "cell_type": "code",
   "execution_count": null,
   "id": "1e5a087a-91bb-488e-a559-d7e8794bb8ee",
   "metadata": {},
   "outputs": [],
   "source": [
    "if __name__ == \"__main__\":\n",
    "    model_path = \"\" \n",
    "\n",
    "    protein_path = \"\"\n",
    "    feature_path = \"\"\n",
    "\n",
    "    test_model_on_9_proteins(model_path, protein_path, feature_path)"
   ]
  }
 ],
 "metadata": {
  "kernelspec": {
   "display_name": "Python 3 (ipykernel)",
   "language": "python",
   "name": "python3"
  },
  "language_info": {
   "codemirror_mode": {
    "name": "ipython",
    "version": 3
   },
   "file_extension": ".py",
   "mimetype": "text/x-python",
   "name": "python",
   "nbconvert_exporter": "python",
   "pygments_lexer": "ipython3",
   "version": "3.9.13"
  }
 },
 "nbformat": 4,
 "nbformat_minor": 5
}
